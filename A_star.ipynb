{
 "cells": [
  {
   "cell_type": "code",
   "execution_count": null,
   "metadata": {},
   "outputs": [
    {
     "name": "stdout",
     "output_type": "stream",
     "text": [
      "11\n"
     ]
    }
   ],
   "source": [
    "import heapq\n",
    "\n",
    "def read_graph_from_file(filename):\n",
    "    graph = {}\n",
    "    with open(filename, \"r\") as f:\n",
    "        for line in f:\n",
    "            u, v, w = map(int, line.split())\n",
    "            if u not in graph:\n",
    "                graph[u] = {}\n",
    "            graph[u][v] = w\n",
    "    return graph\n",
    "\n",
    "def heuristic(a, b):\n",
    "    return 0\n",
    "\n",
    "def a_star_search(graph, start, goal):\n",
    "    pq = [(0, start)]\n",
    "    costs = {start: 0}\n",
    "\n",
    "    while pq:\n",
    "        cost, node = heapq.heappop(pq)\n",
    "\n",
    "        if node == goal:\n",
    "            return cost\n",
    "\n",
    "        for neighbor, weight in graph.get(node, {}).items():\n",
    "            new_cost = cost + weight\n",
    "\n",
    "            if neighbor not in costs or new_cost < costs[neighbor]:\n",
    "                costs[neighbor] = new_cost\n",
    "                heapq.heappush(pq, (new_cost + heuristic(neighbor, goal), neighbor))\n",
    "\n",
    "    return float(\"inf\")\n",
    "\n",
    "graph = read_graph_from_file(\"sample.txt\")\n",
    "print(a_star_search(graph, 0, 5))"
   ]
  },
  {
   "cell_type": "code",
   "execution_count": 2,
   "metadata": {},
   "outputs": [
    {
     "name": "stdout",
     "output_type": "stream",
     "text": [
      "23\n"
     ]
    }
   ],
   "source": [
    "import heapq\n",
    "\n",
    "def read_graph_from_file(filename):\n",
    "    graph = {}\n",
    "    min_weight = float(\"inf\")  # Track the smallest edge weight\n",
    "    \n",
    "    with open(filename, \"r\") as f:\n",
    "        for line in f:\n",
    "            u, v, w = map(int, line.split())\n",
    "            if u not in graph:\n",
    "                graph[u] = {}\n",
    "            graph[u][v] = w\n",
    "            min_weight = min(min_weight, w)  # Update minimum weight\n",
    "    \n",
    "    return graph, min_weight\n",
    "\n",
    "def heuristic(a, goal, min_weight):\n",
    "    return min_weight * abs(goal - a)\n",
    "\n",
    "def a_star_search(graph, start, goal, min_weight):\n",
    "    pq = [(0, start)]\n",
    "    costs = {start: 0}\n",
    "\n",
    "    while pq:\n",
    "        cost, node = heapq.heappop(pq)\n",
    "\n",
    "        if node == goal:\n",
    "            return cost\n",
    "\n",
    "        for neighbor, weight in graph.get(node, {}).items():\n",
    "            new_cost = cost + weight\n",
    "\n",
    "            if neighbor not in costs or new_cost < costs[neighbor]:\n",
    "                costs[neighbor] = new_cost\n",
    "                heapq.heappush(pq, (new_cost + heuristic(neighbor, goal, min_weight), neighbor))\n",
    "\n",
    "    return float(\"inf\")\n",
    "\n",
    "graph, min_weight = read_graph_from_file(\"sample.txt\")\n",
    "print(a_star_search(graph, 0, 5, min_weight))\n"
   ]
  }
 ],
 "metadata": {
  "kernelspec": {
   "display_name": "Python 3",
   "language": "python",
   "name": "python3"
  },
  "language_info": {
   "codemirror_mode": {
    "name": "ipython",
    "version": 3
   },
   "file_extension": ".py",
   "mimetype": "text/x-python",
   "name": "python",
   "nbconvert_exporter": "python",
   "pygments_lexer": "ipython3",
   "version": "3.11.9"
  }
 },
 "nbformat": 4,
 "nbformat_minor": 2
}
