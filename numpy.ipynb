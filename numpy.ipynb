{
 "cells": [
  {
   "cell_type": "code",
   "execution_count": 2,
   "metadata": {},
   "outputs": [
    {
     "name": "stdout",
     "output_type": "stream",
     "text": [
      "[[1 2 3]\n",
      " [4 5 6]]\n"
     ]
    }
   ],
   "source": [
    "import numpy as np\n",
    "\n",
    "a = np.array([(1,2,3), (4,5,6)])\n",
    "print(a)"
   ]
  },
  {
   "cell_type": "code",
   "execution_count": null,
   "metadata": {},
   "outputs": [
    {
     "name": "stdout",
     "output_type": "stream",
     "text": [
      "28000\n",
      "4000\n"
     ]
    }
   ],
   "source": [
    "import numpy as np\n",
    "import time\n",
    "import sys\n",
    "\n",
    "s = range(1000)\n",
    "print(sys.getsizeof(5) * len(s))\n",
    "\n",
    "d = np.arange(1000)\n",
    "print(d.size *d.itemsize ) #less memory"
   ]
  },
  {
   "cell_type": "code",
   "execution_count": null,
   "metadata": {},
   "outputs": [
    {
     "name": "stdout",
     "output_type": "stream",
     "text": [
      "15937.745332717896\n",
      "11129.234552383423\n"
     ]
    }
   ],
   "source": [
    "n = 100000000\n",
    "l1 = range(n)\n",
    "l2 = range(n)\n",
    "\n",
    "a1 = np.arange(n)\n",
    "a2 = np.arange(n)\n",
    "\n",
    "start = time.time()\n",
    "result = [(x,y) for x,y in zip (l1,l2)]\n",
    "print((time.time() - start )* 1000)\n",
    "\n",
    "start = time.time()\n",
    "result = a1 + a2\n",
    "print((time.time() - start )* 1000) #lesser time"
   ]
  },
  {
   "cell_type": "code",
   "execution_count": 13,
   "metadata": {},
   "outputs": [
    {
     "name": "stdout",
     "output_type": "stream",
     "text": [
      "2\n",
      "4\n",
      "int32\n",
      "6\n",
      "(2, 3)\n"
     ]
    }
   ],
   "source": [
    "np.array([(1,2,3) , (2,3,4)])\n",
    "print(a.ndim)\n",
    "print(a.itemsize)\n",
    "print(a.dtype)\n",
    "print(a.size)\n",
    "print(a.shape)\n"
   ]
  },
  {
   "cell_type": "code",
   "execution_count": 28,
   "metadata": {},
   "outputs": [
    {
     "name": "stdout",
     "output_type": "stream",
     "text": [
      "[[1 2]\n",
      " [3 3]\n",
      " [5 6]]\n",
      "[[ 1  2  3  4]\n",
      " [ 5  6  7  8]\n",
      " [ 9 10 11 12]]\n",
      "3\n",
      "[ 4  8 12]\n",
      "[4 8]\n",
      "[ 3  7 11]\n"
     ]
    }
   ],
   "source": [
    "a = np.array([(1,2,3) , (3,5,6)])\n",
    "a = a.reshape(3,2)\n",
    "print(a)\n",
    "\n",
    "a = np.array([(1,2,3,4) , (5,6,7,8), (9,10,11,12)])\n",
    "print(a)\n",
    "print(a[0,2])\n",
    "print(a[0: , 3]) #all the rows that includes 3rd index\n",
    "print(a[0:2 , 3]) #all the rows TILL 2nd row that includes 3rd index\n",
    "print(a[0:,2])"
   ]
  },
  {
   "cell_type": "code",
   "execution_count": 34,
   "metadata": {},
   "outputs": [
    {
     "name": "stdout",
     "output_type": "stream",
     "text": [
      "[1.  1.5 2.  2.5 3. ]\n",
      "1.0\n",
      "3.0\n",
      "10.0\n"
     ]
    }
   ],
   "source": [
    "a = np.linspace(1,3,5) # 10 values between 1 and 3\n",
    "print(a)\n",
    "print(a.min())\n",
    "print(a.max())\n",
    "print(a.sum())"
   ]
  },
  {
   "cell_type": "code",
   "execution_count": 36,
   "metadata": {},
   "outputs": [
    {
     "name": "stdout",
     "output_type": "stream",
     "text": [
      "[10 26 42]\n",
      "[ 1  2  3  4  5  6  7  8  9 10 11 12]\n"
     ]
    }
   ],
   "source": [
    "#axis - 0 -> columns\n",
    "#axis - 1 -> rows\n",
    "\n",
    "#to calculate sum of all rows\n",
    "\n",
    "a = np.array([(1,2,3,4) , (5,6,7,8), (9,10,11,12)])\n",
    "print(a.sum(axis=1))\n",
    "\n",
    "print(a.ravel())"
   ]
  }
 ],
 "metadata": {
  "kernelspec": {
   "display_name": "Python 3",
   "language": "python",
   "name": "python3"
  },
  "language_info": {
   "codemirror_mode": {
    "name": "ipython",
    "version": 3
   },
   "file_extension": ".py",
   "mimetype": "text/x-python",
   "name": "python",
   "nbconvert_exporter": "python",
   "pygments_lexer": "ipython3",
   "version": "3.11.9"
  }
 },
 "nbformat": 4,
 "nbformat_minor": 2
}
